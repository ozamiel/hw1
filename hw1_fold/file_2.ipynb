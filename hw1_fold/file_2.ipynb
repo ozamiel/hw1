{
 "cells": [
  {
   "cell_type": "code",
   "execution_count": 1,
   "id": "0289b035-e6a9-402e-aa2d-101976f11e6b",
   "metadata": {},
   "outputs": [
    {
     "name": "stdout",
     "output_type": "stream",
     "text": [
      "Hello other world\n"
     ]
    }
   ],
   "source": [
    "print(\"Hello other world\") #ab"
   ]
  },
  {
   "cell_type": "code",
   "execution_count": null,
   "id": "f467190e-e25d-475b-9e6e-1620da0f5f26",
   "metadata": {},
   "outputs": [],
   "source": []
  }
 ],
 "metadata": {
  "kernelspec": {
   "display_name": "Python 3 (ipykernel)",
   "language": "python",
   "name": "python3"
  },
  "language_info": {
   "codemirror_mode": {
    "name": "ipython",
    "version": 3
   },
   "file_extension": ".py",
   "mimetype": "text/x-python",
   "name": "python",
   "nbconvert_exporter": "python",
   "pygments_lexer": "ipython3",
   "version": "3.10.12"
  }
 },
 "nbformat": 4,
 "nbformat_minor": 5
}
